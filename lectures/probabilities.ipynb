{
 "cells": [
  {
   "cell_type": "code",
   "execution_count": 2,
   "metadata": {
    "slideshow": {
     "slide_type": "slide"
    },
    "tags": [
     "remove-input"
    ]
   },
   "outputs": [
    {
     "data": {
      "text/markdown": [
       "# Probabilities"
      ],
      "text/plain": [
       "<IPython.core.display.Markdown object>"
      ]
     },
     "metadata": {},
     "output_type": "display_data"
    },
    {
     "data": {
      "text/markdown": [
       "<!-- Define LaTeX macros -->\n",
       "$\\def\\E{\\operatorname{E}}$\n",
       "$\\def\\Var{\\operatorname{Var}}$\n",
       "$\\def\\Cov{\\operatorname{Cov}}$\n",
       "$\\def\\dd{\\mathrm{d}}$\n",
       "$\\def\\ee{\\mathrm{e}}$\n",
       "$\\def\\Norm{\\mathcal{N}}$\n",
       "$\\def\\Uniform{\\mathcal{U}}$\n",
       "\n",
       "<!-- MathJax needs them to be defined again for the non-inline environment -->\n",
       "$$\\def\\E{\\operatorname{E}}$$\n",
       "$$\\def\\Var{\\operatorname{Var}}$$\n",
       "$$\\def\\Cov{\\operatorname{Cov}}$$\n",
       "$$\\def\\dd{\\mathrm{d}}$$\n",
       "$$\\def\\ee{\\mathrm{e}}$$\n",
       "$$\\def\\Norm{\\mathcal{N}}$$\n",
       "$$\\def\\Uniform{\\mathcal{U}}$$"
      ],
      "text/plain": [
       "<IPython.core.display.Markdown object>"
      ]
     },
     "metadata": {},
     "output_type": "display_data"
    }
   ],
   "source": [
    "title = \"# Probabilities\"\n",
    "# Print title and setup TeX defs for both KaTeX and MathJax\n",
    "import bayesian_stats_course_tools\n",
    "bayesian_stats_course_tools.misc.display_markdown_and_setup_tex(title)\n",
    "\n",
    "import matplotlib.style\n",
    "matplotlib.style.use(\"bayesian_stats_course_tools.light\")"
   ]
  },
  {
   "attachments": {},
   "cell_type": "markdown",
   "metadata": {
    "slideshow": {
     "slide_type": "subslide"
    }
   },
   "source": [
    "## Outline \n",
    "- What are probabilities?\n",
    "- Notation and basic concepts\n",
    "    - Sets\n",
    "    - Outcomes, events\n",
    "    - Probabilities\n",
    "        - Addition and multiplication\n",
    "        - Independence, conditional\n",
    "        - Bayes' theorem\n",
    "- Exercises\n",
    "    - Birthday problem\n",
    "    - Monty Hall problem"
   ]
  },
  {
   "attachments": {},
   "cell_type": "markdown",
   "metadata": {
    "slideshow": {
     "slide_type": "slide"
    }
   },
   "source": [
    "## What are probabilities?\n",
    "\n",
    "- Probability as frequency of outcome of events: \n",
    "    - In this way of thinking about probabilities we look at the number of times a given event happens over a large number of tries.\n",
    "    - It is difficult to define consistently however, without running into circular reasoning.\n",
    "\n"
   ]
  },
  {
   "cell_type": "markdown",
   "metadata": {
    "slideshow": {
     "slide_type": "fragment"
    }
   },
   "source": [
    "\n",
    "- Probability as degree of belief: \n",
    "    - Subjective probability is associated with personal judgements about how likely something is to happen.\n",
    "    - For example, 'I believe that team X will beat team Y, because teams Y's star player has an injury, while team X has been training really hard.' Such statements can be made even if teams X and Y have never played each other.\n",
    "    - By requiring that two people arrive at the same conclusion if given the same assumptions and data, this definition of probability can be formalised into a mathematical system equivalent to the other definitions.\n"
   ]
  },
  {
   "attachments": {},
   "cell_type": "markdown",
   "metadata": {
    "slideshow": {
     "slide_type": "subslide"
    }
   },
   "source": [
    "\n",
    "- Probably derived from axioms:  \n",
    "    - Probability is a measure that satisfies a set of axioms derived from logic and set theory, such as the Kolmogorov or Cox axioms.\n",
    "    - This sidesteps the frequentist vs Bayesian interpretation by sticking to purely mathematical concepts.\n",
    "\n",
    "In this course we start out with this definition. \n",
    "In general we will follow the Bayesian degree-of-believe way of thinking about probability."
   ]
  },
  {
   "attachments": {},
   "cell_type": "markdown",
   "metadata": {
    "slideshow": {
     "slide_type": "slide"
    }
   },
   "source": [
    "## Notation and basic concepts\n",
    "\n",
    "### Set notation\n",
    "\n",
    "- A set is a collection of elements, e.g.: $A = \\{1, 2, 3\\}$\n",
    "\n",
    "- $e \\in A$ means $e$ is a member of the set $A$, e.g.: $1 \\in \\{1, 2, 3\\}$\n",
    "\n",
    "- A set can also be represented by a rule: $\\{x|x ~{\\rm follows ~a ~rule} \\}$\n",
    "\n",
    "    For example, the set $E$ of even integers: $E = \\{x| x=2y,\\, y \\in \\mathbb{Z} \\}$\n",
    "\n",
    "- Set inclusion ($\\subseteq$). A is included in B (or is a subset of B) if all the elements of A are also elements of B. \n",
    "    \n",
    "    For example: $\\{ 1, 2 \\} \\subseteq \\{1, 2, 3\\}$"
   ]
  },
  {
   "attachments": {},
   "cell_type": "markdown",
   "metadata": {
    "slideshow": {
     "slide_type": "subslide"
    }
   },
   "source": [
    "#### Set operators\n",
    "Let $A = \\{1, 3, 5\\}$; $B = \\{ 2, 3, 4\\}$\n",
    "\n",
    "- **Union $\\cup$**\n",
    "    All elements of A and all elements of B\n",
    "\n",
    "    $A \\cup B = \\{1, 2, 3, 4, 5\\}$\n",
    "\n",
    "\n",
    "- **Intersection $\\cap$**:\n",
    "    Elements that are in both A and B\n",
    "\n",
    "    $A \\cap B = \\{3\\} $\n",
    "\n",
    "\n",
    "- **Difference $\\setminus$**\n",
    "    Elements that are in A but not in B\n",
    "\n",
    "    $A \\setminus B = \\{1, 5\\}$\n",
    "\n",
    "    $B \\setminus A = \\{2, 4 \\}$\n",
    "\n",
    "- **Complement**:\n",
    "\n",
    "    The complement of A in reference to $\\Omega$ includes all elements in $\\Omega$ that are not in A. \n",
    "    For the die example $\\Omega = \\{1, 2, 3, 4, 5, 6\\}$, \n",
    "\n",
    "    $A^c = \\{ 2, 4, 6 \\}$ or \n",
    "\n",
    "    $A^c = \\{\\omega:\\omega \\in \\Omega ~{\\rm and}~ \\omega\\not\\in A\\}$"
   ]
  },
  {
   "attachments": {},
   "cell_type": "markdown",
   "metadata": {
    "slideshow": {
     "slide_type": "subslide"
    }
   },
   "source": [
    "- **Empty set $\\varnothing$**\n",
    "\n",
    "    The empty set, $\\varnothing$, is the complement of the universal set:\n",
    "\n",
    "    $\\Omega^c = \\varnothing$ and $\\varnothing^c = \\Omega$.\n",
    "\n",
    "    This means, $A\\cup \\varnothing = A$ and $A\\cap\\varnothing = \\varnothing$.\n",
    "\n",
    "- **Power set**\n",
    "\n",
    "    Collection of all possible sets of a given set\n",
    "    \n",
    "    $A = \\{1, 3, 5\\}$\n",
    "    \n",
    "    $\\mathcal P(A) = \\left\\{\\varnothing,\\{ 1\\},\\{3 \\},\\{5 \\},\\{1, 3 \\},\\{1, 5 \\},\\{3, 5 \\}, \\{1, 3, 5\\} \\right\\}$"
   ]
  },
  {
   "attachments": {},
   "cell_type": "markdown",
   "metadata": {
    "slideshow": {
     "slide_type": "slide"
    }
   },
   "source": [
    "## Outcomes, events, probability\n",
    "\n",
    "### Outcomes and sample space\n",
    "\n",
    "The outcomes $\\omega$ of an experiment are elements of the set of all possible outcomes, called the sample space $\\Omega$.\n",
    "\n",
    "Consider the experiment of tossing a (fair) coin twice:\n",
    "- $\\omega=\\text{HH}$ (\"two heads\")\n",
    "- $\\omega \\in \\Omega=\\{\\text{HH}, \\text{HT}, \\text{TH}, \\text{TT}\\}$\n"
   ]
  },
  {
   "attachments": {},
   "cell_type": "markdown",
   "metadata": {
    "slideshow": {
     "slide_type": "subslide"
    }
   },
   "source": [
    "\n",
    "### Events and event space\n",
    "An event $F$ is a set of outcomes\n",
    "- $F=\\{\\text{HH}, \\text{HT}, \\text{TH}\\}$ (\"at least one head\")\n",
    "\n",
    "Events are elements of the event space $\\mathcal{F}$: the power set of the sample space (the set of all possible outcomes)\n",
    "\n",
    "Note that $\\Omega$ and $\\mathcal{F}$ are not the same. The sample space contains the basic outcomes and event space contains sets of outcomes.\n"
   ]
  },
  {
   "attachments": {},
   "cell_type": "markdown",
   "metadata": {
    "slideshow": {
     "slide_type": "subslide"
    }
   },
   "source": [
    "\n",
    "### Probability\n",
    "The probability function $P$ assigns a probability (a number between 0 and 1) to events\n",
    "- $F=\\{\\text{HH}, \\text{HT}, \\text{TH}\\}$\n",
    "- $\\Pr(F) = \\frac{3}{4}$\n"
   ]
  },
  {
   "attachments": {},
   "cell_type": "markdown",
   "metadata": {
    "slideshow": {
     "slide_type": "slide"
    }
   },
   "source": [
    "### Kolmogorov's axioms of probability\n",
    "\n",
    "- The probability measure of events is a real number equal or larger than 0: \n",
    "\n",
    "    $0 \\le \\Pr(A)$\n",
    "\n",
    "- The probability measure of the universal set is 1.\n",
    "\n",
    "    $\\Pr(\\Omega) = 1$\n",
    "\n",
    "- If the sets $A_1$, $A_2$, $A_3$ ... $\\in \\mathcal{F}$ are disjoint, then\n",
    "\n",
    "    $\\Pr(A_1 \\cup A_2 \\cup ...) = \\Pr(A_1) + \\Pr(A_2) + ...$"
   ]
  },
  {
   "attachments": {},
   "cell_type": "markdown",
   "metadata": {
    "slideshow": {
     "slide_type": "subslide"
    }
   },
   "source": [
    "### Consequences of the axioms of probability\n",
    "\n",
    "- Numeric bound:\n",
    "\n",
    "    $0 \\leq \\Pr(A) \\leq 1$\n",
    "\n",
    "- Monoticity:\n",
    "\n",
    "    $A\\subseteq B$ then $\\Pr(A) \\leq \\Pr(B)$\n",
    "\n",
    "- Complement rule:\n",
    "\n",
    "    $\\Pr(A^c) = 1 - \\Pr(A)$\n",
    "\n",
    "- Sum rule:\n",
    "\n",
    "    $\\Pr(A \\cup B) = \\Pr(A) + \\Pr(B) - \\Pr(A \\cap B)$"
   ]
  },
  {
   "attachments": {},
   "cell_type": "markdown",
   "metadata": {
    "slideshow": {
     "slide_type": "subslide"
    }
   },
   "source": [
    "Example, a single fair die:\n",
    "\n",
    "- $\\Omega = \\{1,2,3,4,5,6\\}$\n",
    "- $\\Pr(\\omega) = \\frac{1}{6}\\quad \\forall \\omega \\in \\Omega$\n",
    "- Events $A = \\{1, 3\\}$ and $B = \\{1,2,3,4\\}$\n"
   ]
  },
  {
   "attachments": {},
   "cell_type": "markdown",
   "metadata": {
    "slideshow": {
     "slide_type": "fragment"
    }
   },
   "source": [
    "\n",
    "- Monoticity:\n",
    "\n",
    "    $A\\subseteq B$, $\\Pr(A)=\\frac{1}{3} \\leq \\Pr(B)=\\frac{2}{3}$\n",
    "- Complement rule:\n",
    "\n",
    "    $\\Pr(A^c) = \\Pr(\\{2,4,5,6\\}) = \\frac{2}{3} = 1 - \\Pr(A)$\n",
    "- Sum rule:\n",
    "\n",
    "    $\\Pr(A \\cup B) = \\Pr(\\{1,2,3,4\\}) = \\frac{2}{3}$\n",
    "\n",
    "    $\\Pr(A \\cup B) = \\Pr(A) + \\Pr(B) - \\Pr(A \\cap B) = \\frac{1}{3} + \\frac{2}{3} - \\Pr(\\{1, 3\\}) = \\frac{2}{3}$"
   ]
  },
  {
   "cell_type": "markdown",
   "metadata": {
    "slideshow": {
     "slide_type": "subslide"
    }
   },
   "source": [
    "### Clicker\n",
    "\n",
    "Two fair six-sided dice are rolled. What's the probability to obtain two sixes?\n",
    "- 1/25\n",
    "- 1/36\n",
    "- 2/36\n",
    "- 1/6"
   ]
  },
  {
   "attachments": {},
   "cell_type": "markdown",
   "metadata": {
    "slideshow": {
     "slide_type": "slide"
    }
   },
   "source": [
    "## Conditional probabilities and independence\n",
    "\n",
    "### Conditional probabilities\n",
    "\n",
    "The conditional probability of event A happening, given that event B happened, is\n",
    "\n",
    "$\\Pr(A|B) = \\frac{\\Pr(A\\cap B)}{\\Pr(B)}$\n",
    "\n",
    "Instead of the Kolmogorov axioms, probability theory can also be defined in terms of conditional probabilities, using the Cox axioms.\n"
   ]
  },
  {
   "attachments": {},
   "cell_type": "markdown",
   "metadata": {
    "slideshow": {
     "slide_type": "subslide"
    }
   },
   "source": [
    "### Independence\n",
    "If A is independent of B, $\\Pr(A|B) = \\Pr(A)$: the conditional probability of A given B does not depend on B. From this follows that\n",
    "\n",
    "$\\Pr(A\\cap B) = \\Pr(A)\\Pr(B)$"
   ]
  },
  {
   "attachments": {},
   "cell_type": "markdown",
   "metadata": {
    "slideshow": {
     "slide_type": "subslide"
    }
   },
   "source": [
    "### Law of total probability\n",
    "\n",
    "Let $\\{H_1, H_2, ... \\}$ be a countable collection of sets which is a partition of $\\Omega$, where\n",
    "\n",
    "$H_i \\cap H_j = \\varnothing$ for $i \\ne j$\n",
    "\n",
    "$H_1 \\cup H_2 \\cup ... = \\Omega$\n",
    "\n",
    "The probability of an event $D$ can be calculated as\n",
    "\n",
    "$\\Pr(D) = \\Pr(D \\cap H_1) + \\Pr(D \\cap H_2) + \\dots$\n",
    "\n",
    "or in terms of conditional probabilities\n",
    "\n",
    "$\\Pr(D) = \\Pr(D | H_1)\\Pr(H_1) + \\Pr(D | H_2)\\Pr(H_2) + \\dots$"
   ]
  },
  {
   "cell_type": "markdown",
   "metadata": {
    "slideshow": {
     "slide_type": "subslide"
    }
   },
   "source": [
    "### Clicker\n",
    "\n",
    "Two fair six-sided dice are rolled. Let A be the event that the sum of the dice is 7, and let B be the event that at least one of the two dice is a 4. Are A and B independent?\n"
   ]
  },
  {
   "cell_type": "markdown",
   "metadata": {
    "slideshow": {
     "slide_type": "fragment"
    }
   },
   "source": [
    "<img src=\"../assets/dice.png\" height=\"400\">"
   ]
  },
  {
   "cell_type": "markdown",
   "metadata": {
    "slideshow": {
     "slide_type": "subslide"
    }
   },
   "source": [
    "What about when B is the event that the first die is a 4?"
   ]
  },
  {
   "cell_type": "markdown",
   "metadata": {
    "slideshow": {
     "slide_type": "fragment"
    }
   },
   "source": [
    "<img src=\"../assets/dice_2.png\" height=\"400\">"
   ]
  },
  {
   "attachments": {},
   "cell_type": "markdown",
   "metadata": {
    "slideshow": {
     "slide_type": "subslide"
    }
   },
   "source": [
    "### Bayes' theorem\n",
    "\n",
    "Applying the definition of the conditional probability twice we get Bayes' theorem:\n",
    "\n",
    "$\\Pr(A|B) = \\frac{\\Pr(A\\cap B)}{\\Pr(B)} = \\frac{\\Pr(B|A)\\Pr(A)}{\\Pr(B)}$\n",
    "\n",
    "Named after Thomas Bayes, British clergyman, 1702-1761\n"
   ]
  },
  {
   "attachments": {},
   "cell_type": "markdown",
   "metadata": {
    "slideshow": {
     "slide_type": "subslide"
    }
   },
   "source": [
    "#### Clicker: a test for rare events\n",
    "\n",
    "Let us assume there is a rare disease that affects 0.1% of the population. \n",
    "There is a test that can detect this disease. It has a detection efficiency of 99% and a probability of error (false-positive) of 2%. \n",
    "\n",
    "What is the probability $\\Pr(D | +)$ of having the disease when receiving a positive test?"
   ]
  },
  {
   "attachments": {},
   "cell_type": "markdown",
   "metadata": {
    "slideshow": {
     "slide_type": "subslide"
    }
   },
   "source": [
    "\n",
    "$\\Pr(D | +) = \\frac{\\Pr(+ | D)\\Pr(D)}{\\Pr(+)} = \\frac{\\Pr(+ | D)\\Pr(D)}{\\Pr(+ | D)\\Pr(D) + \\Pr(+ | D^c)\\Pr(D^c)}$\n",
    "  (law of total probability)"
   ]
  },
  {
   "cell_type": "markdown",
   "metadata": {
    "slideshow": {
     "slide_type": "fragment"
    }
   },
   "source": [
    "\n",
    "- $\\Pr(+ | D) = 0.99$: probability of a postive test result, given the disease is present (detection efficiency of 99%)\n",
    "- $\\Pr(D) = 0.001$: the disease affects 0.1% of the population\n",
    "- $\\Pr(+ | D^c) = 0.02$: probability of a postive test result, given the disease is not present (false-positive rate of 2%)\n"
   ]
  },
  {
   "cell_type": "markdown",
   "metadata": {
    "slideshow": {
     "slide_type": "fragment"
    }
   },
   "source": [
    "\n",
    "$\\Pr(D | +) = \\frac{0.99 \\cdot 0.001}{0.99 \\cdot 0.001 + 0.02 \\cdot 0.999} = 0.047$\n",
    "\n",
    "The disease is only present in 5% of the cases where the test is positive!\n"
   ]
  }
 ],
 "metadata": {
  "kernelspec": {
   "display_name": "Python 3 (ipykernel)",
   "language": "python",
   "name": "python3"
  },
  "language_info": {
   "codemirror_mode": {
    "name": "ipython",
    "version": 3
   },
   "file_extension": ".py",
   "mimetype": "text/x-python",
   "name": "python",
   "nbconvert_exporter": "python",
   "pygments_lexer": "ipython3",
   "version": "3.12.3"
  },
  "title": "Probabilities"
 },
 "nbformat": 4,
 "nbformat_minor": 4
}
