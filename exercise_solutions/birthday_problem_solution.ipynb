{
 "cells": [
  {
   "attachments": {},
   "cell_type": "markdown",
   "metadata": {
    "slideshow": {
     "slide_type": "slide"
    }
   },
   "source": [
    "# Birthday problem\n",
    "\n",
    "$\\Pr(B_n) = 1 - \\Pr(B_n^c)$, where $B_n^c$ is the event that out of $n$ people, no-one shares a birthday.\n",
    "\n",
    "Let $d_i$ be the birthday of person $i$, then\n",
    "\n",
    "$\\Pr(B_n^c) = \\Pr(d_1, d_2\\notin\\{d_1\\}, d_3\\notin\\{d_1, d_2\\}, \\dots, d_n \\notin \\{d_1, d_2\\,\\dots,d_{n-1}\\})$\n",
    "\n",
    "Since the birthdays are independent, we have\n",
    "\n",
    "$\\Pr(B_n^c) = \\Pr(d_1)\\Pr(d_2\\notin\\{d_1\\})\\dots\\Pr(d_n \\notin \\{d_1, d_2\\,\\dots,d_{n-1}\\})$\n",
    "\n",
    "with\n",
    "\n",
    "$\\Pr(d_1) = 1$, $\\Pr(d_2\\notin\\{d_1\\}) = \\frac{365-1}{365}$, $\\Pr(d_n \\notin \\{d_1, d_2\\,\\dots,d_{n-1}\\}) = \\frac{365-(n-1)}{365}$\n",
    "\n",
    "Put together\n",
    "\n",
    "$\\Pr(B_n^c) = \\frac{365!}{(365-n)!}\\frac{1}{365^n}$"
   ]
  },
  {
   "cell_type": "code",
   "execution_count": 2,
   "metadata": {
    "slideshow": {
     "slide_type": "subslide"
    }
   },
   "outputs": [],
   "source": [
    "import numpy as np\n",
    "import math\n",
    "\n",
    "def probability_of_all_different_birthdays_product(n):\n",
    "    return np.prod([(365-i)/365 for i in range(n)])\n",
    "\n",
    "def probability_of_all_different_birthdays_factorial(n):\n",
    "    return math.factorial(365)/math.factorial(365-n)/365**n\n",
    "\n",
    "def log_factorial_approx(n):\n",
    "    \"\"\"Compute Stirling's approximation of the factorial n! to 2nd order\"\"\"\n",
    "    return n * np.log(n) - n + 0.5*np.log(2*np.pi*n) + 1/(12*n)\n",
    "\n",
    "def probability_of_all_different_birthdays_stirling_factorial(n):\n",
    "    log_p = log_factorial_approx(365) - log_factorial_approx(365-n) - n*np.log(365)\n",
    "    return np.exp(log_p)\n"
   ]
  },
  {
   "cell_type": "code",
   "execution_count": 4,
   "metadata": {
    "slideshow": {
     "slide_type": "subslide"
    }
   },
   "outputs": [
    {
     "name": "stdout",
     "output_type": "stream",
     "text": [
      "Probability of two out of 11 people sharing a birthday\n",
      "Product: 0.141\n",
      "Factorial: 0.141\n",
      "Approximate factorial: 0.141\n"
     ]
    }
   ],
   "source": [
    "n = 11\n",
    "\n",
    "print(f\"Probability of two out of {n} people sharing a birthday\")\n",
    "\n",
    "print(f\"Product: {1-probability_of_all_different_birthdays_product(n):.3f}\")\n",
    "print(f\"Factorial: {1-probability_of_all_different_birthdays_factorial(n):.3f}\")\n",
    "print(f\"Approximate factorial: {1-probability_of_all_different_birthdays_stirling_factorial(n):.3f}\")"
   ]
  },
  {
   "cell_type": "code",
   "execution_count": 6,
   "metadata": {
    "slideshow": {
     "slide_type": "subslide"
    }
   },
   "outputs": [
    {
     "name": "stdout",
     "output_type": "stream",
     "text": [
      "Probability of two out of 23 people sharing a birthday: 0.507\n"
     ]
    }
   ],
   "source": [
    "n = 23\n",
    "\n",
    "print(f\"Probability of two out of {n} people sharing a birthday: \"\n",
    "      f\"{1-probability_of_all_different_birthdays_product(n):.3f}\")"
   ]
  }
 ],
 "metadata": {
  "kernelspec": {
   "display_name": "stats_course",
   "language": "python",
   "name": "python3"
  },
  "language_info": {
   "codemirror_mode": {
    "name": "ipython",
    "version": 3
   },
   "file_extension": ".py",
   "mimetype": "text/x-python",
   "name": "python",
   "nbconvert_exporter": "python",
   "pygments_lexer": "ipython3",
   "version": "3.11.3"
  },
  "orig_nbformat": 4
 },
 "nbformat": 4,
 "nbformat_minor": 2
}
