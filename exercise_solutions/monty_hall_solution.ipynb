{
 "cells": [
  {
   "attachments": {},
   "cell_type": "markdown",
   "metadata": {
    "slideshow": {
     "slide_type": "slide"
    }
   },
   "source": [
    "# Monty Hall problem\n",
    "\n",
    "Let us assume the player first chooses door 1, and then the host opens door 3, revealing a goat.\n",
    "\n",
    "What is the probability $\\Pr(C_1 | H_3)$ of there being a car behind door 1 in this case?\n",
    "\n",
    "What is the probability of winning the car $\\Pr(C_2 | H_3)$ by switching to door 2?"
   ]
  },
  {
   "attachments": {},
   "cell_type": "markdown",
   "metadata": {
    "slideshow": {
     "slide_type": "subslide"
    }
   },
   "source": [
    "\n",
    "Write out the conditional probability with Bayes' theorem\n",
    "\n",
    "$\\Pr(C_1 | H_3) = \\frac{\\Pr(H_3 | C_1)\\Pr(C_1)}{\\Pr(H_3)}$\n",
    "\n",
    "Let us start with the numerator:\n",
    "- $\\Pr(H_3 | C_1) = \\frac{1}{2}$: if the car is behind door 1, both door 2 and 3 have goats and the host can choose either.\n",
    "- $\\Pr(C_1) = \\frac{1}{3}$: this is the prior probability of the car being behind door 1. The car is equally likely behind any of the 3 doors.\n",
    "\n",
    "For the denominator, it helps to rewrite in terms of conditional probabilities of the car positions:\n",
    "$$\\Pr(H_3) = \\Pr(H_3 | C_1)\\Pr(C_1) + \\Pr(H_3 | C_2)\\Pr(C_2) + \\Pr(H_3 | C_3)\\Pr(C_3)$$\n",
    "- The first terms is the same as the numerator\n",
    "- $\\Pr(H_3 | C_2) = 1$: the player has chosen door 1, and the car is behind door 2, so the host can only open door 3.\n",
    "- $\\Pr(H_3 | C_3) = 0$: the host always reveals a goat, so they will not open door 3 if the car is behind door 3.\n",
    "\n",
    "Put together:\n",
    "\n",
    "$$ \\Pr(C_1 | H_3) = \\frac{\\frac{1}{2}\\frac{1}{3}}{\\frac{1}{2}\\frac{1}{3} + 1\\frac{1}{3} + 0\\frac{1}{3}} = \\frac{1}{3}$$\n"
   ]
  },
  {
   "attachments": {},
   "cell_type": "markdown",
   "metadata": {
    "slideshow": {
     "slide_type": "subslide"
    }
   },
   "source": [
    "We could have saved us the trouble of computing the denominator by considering the posterior odds $\\frac{\\Pr(C_2 | H_3)}{\\Pr(C_1 | H_3)}$:\n",
    "\n",
    "$$ \\frac{\\Pr(C_2 | H_3)}{\\Pr(C_1 | H_3)} = \\frac{\\Pr(H_3 | C_2)}{\\Pr(H_3 | C_1)}\\frac{\\Pr(C_2)}{\\Pr(C_1)} = 2 $$\n",
    "\n",
    "The probability of winning when switching is twice as high as when sticking with the original choice. \n",
    "This formulation shows of how the prior odds (before the host opens the door with the goat: $\\frac{\\Pr(C_2)}{\\Pr(C_1)} = 1$) change upon receiving the extra information of the host revealing a goat behind door 3."
   ]
  }
 ],
 "metadata": {
  "language_info": {
   "name": "python"
  },
  "orig_nbformat": 4
 },
 "nbformat": 4,
 "nbformat_minor": 2
}
