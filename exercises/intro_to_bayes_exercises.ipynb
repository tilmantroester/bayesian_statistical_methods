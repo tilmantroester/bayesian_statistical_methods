{
 "cells": [
  {
   "cell_type": "code",
   "execution_count": 1,
   "metadata": {
    "tags": [
     "remove-input"
    ]
   },
   "outputs": [
    {
     "data": {
      "text/markdown": [
       "# Introduction to Bayesian statistics: exercises"
      ],
      "text/plain": [
       "<IPython.core.display.Markdown object>"
      ]
     },
     "metadata": {},
     "output_type": "display_data"
    },
    {
     "data": {
      "text/markdown": [
       "<!-- Define LaTeX macros -->\n",
       "$\\def\\E{\\operatorname{E}}$\n",
       "$\\def\\Var{\\operatorname{Var}}$\n",
       "$\\def\\Cov{\\operatorname{Cov}}$\n",
       "$\\def\\dd{\\mathrm{d}}$\n",
       "$\\def\\ee{\\mathrm{e}}$\n",
       "$\\def\\Norm{\\mathcal{N}}$\n",
       "$\\def\\Uniform{\\mathcal{U}}$\n",
       "\n",
       "<!-- MathJax needs them to be defined again for the non-inline environment -->\n",
       "$$\\def\\E{\\operatorname{E}}$$\n",
       "$$\\def\\Var{\\operatorname{Var}}$$\n",
       "$$\\def\\Cov{\\operatorname{Cov}}$$\n",
       "$$\\def\\dd{\\mathrm{d}}$$\n",
       "$$\\def\\ee{\\mathrm{e}}$$\n",
       "$$\\def\\Norm{\\mathcal{N}}$$\n",
       "$$\\def\\Uniform{\\mathcal{U}}$$"
      ],
      "text/plain": [
       "<IPython.core.display.Markdown object>"
      ]
     },
     "metadata": {},
     "output_type": "display_data"
    }
   ],
   "source": [
    "title = \"# Introduction to Bayesian statistics: exercises\"\n",
    "# Print title and setup TeX defs for both KaTeX and MathJax\n",
    "import bayesian_stats_course_tools\n",
    "bayesian_stats_course_tools.misc.display_markdown_and_setup_tex(title)\n",
    "\n",
    "import matplotlib.style\n",
    "matplotlib.style.use(\"bayesian_stats_course_tools.light\")"
   ]
  },
  {
   "cell_type": "markdown",
   "metadata": {},
   "source": [
    "# Exercise 1\n",
    "\n",
    "- Implement your own version of the line-fitting procedure, using the same data.\n",
    "- Now try it with the data in `lectures/data/linear_fits/data_1.txt`\n",
    "    - First plot the data. What has changed?\n",
    "    - Try the same model and likelihood on the new data. You might want to adjust the prior on $m$ and $b$ for this new data set.\n",
    "    - What if you use the provided uncertainty per data point $\\sigma_{y_i}$, instead of assuming a constant variance $\\sigma_y$ for all data points?\n",
    "    - Instead use the actual likelihood of the data:\n",
    "\\begin{align}\n",
    "    \\mu(x) &= mx + b \\\\\n",
    "    \\sigma(x_i) &= \\sigma_{y_i} + f\\mu(x_i)^2 \\quad f > 0\\ \\text{a parameter} \\\\\n",
    "    y_i&\\sim\\Norm(\\mu(x_i),\\sigma(x_i)^2)\n",
    "\\end{align}\n",
    "Careful with the normalisation of the Gaussian likelihood. Because we vary the variance, this matters now!"
   ]
  },
  {
   "cell_type": "markdown",
   "metadata": {},
   "source": [
    "# Exercise 2\n",
    "\n",
    "The data in the previous example were a synthetic version of real observations that were obtained in an AstroWoche project in 2024 by Jonas Spiller, Theo Lequy, Clara Bleich. \n",
    "\n",
    "<!-- ![jovian moons data](../assets/jovian_moons_raw_data.png) -->\n",
    "<img style=\"display: block; \n",
    "    margin-left: auto;\n",
    "    margin-right: auto;\n",
    "    width: 60%;\"\n",
    "    src=\"../assets/jovian_moons_raw_data.png\" alt=\"jovian moons data\"/>"
   ]
  },
  {
   "cell_type": "markdown",
   "metadata": {},
   "source": [
    "The real observations can be found in `data/jovian_moons/{moon}.dat`:"
   ]
  },
  {
   "cell_type": "code",
   "execution_count": null,
   "metadata": {},
   "outputs": [],
   "source": [
    "moon = \"Io\"\n",
    "\n",
    "t, distance, distance_alt, distance_err = np.loadtxt(\n",
    "    f\"./data/jovian_moons/{moon}.dat\", unpack=True)"
   ]
  },
  {
   "cell_type": "markdown",
   "metadata": {},
   "source": [
    "1. Repeat the analysis with the real data set. What do you find?"
   ]
  },
  {
   "cell_type": "markdown",
   "metadata": {},
   "source": [
    "There is another distance estimate provided. The difference between the distance estimates comes from different approaches to converting the measured distance between Jupiter and its moons from the number of pixels to a physical distance in km.\n",
    "\n",
    "2. How does the analysis look when using this other distance estimate (what I call `distance_alt`)? What about the other moons?\n"
   ]
  },
  {
   "cell_type": "markdown",
   "metadata": {},
   "source": [
    "\n",
    "Because there are two distance estimates that do not agree, both of which are based on reasonable approaches, this suggests that there might be a _systematic_ error in the measurements. Systematic errors are usually not random (which means they do not get smaller as you obtain more data). But we could pretend the offset between the two measurements is an estimate of an unaccounted statistical uncertainty. \n",
    "\n",
    "3. How does the analysis look when we assume `sigma_d**2 = distance_err**2 + (distance - distance_alt)**2`?\n"
   ]
  },
  {
   "cell_type": "markdown",
   "metadata": {},
   "source": [
    "\n",
    "4. Instead of assuming that the uncertainty is underestimated by this offset, we can also model it. Does the model work better if the variance is a free parameter?\n"
   ]
  }
 ],
 "metadata": {
  "kernelspec": {
   "display_name": "stats_course_fs24",
   "language": "python",
   "name": "python3"
  },
  "language_info": {
   "codemirror_mode": {
    "name": "ipython",
    "version": 3
   },
   "file_extension": ".py",
   "mimetype": "text/x-python",
   "name": "python",
   "nbconvert_exporter": "python",
   "pygments_lexer": "ipython3",
   "version": "3.12.3"
  }
 },
 "nbformat": 4,
 "nbformat_minor": 2
}
