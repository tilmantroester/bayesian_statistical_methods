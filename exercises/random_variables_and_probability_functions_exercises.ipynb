{
 "cells": [
  {
   "cell_type": "code",
   "execution_count": 1,
   "metadata": {
    "slideshow": {
     "slide_type": "slide"
    },
    "tags": [
     "remove-input"
    ]
   },
   "outputs": [
    {
     "data": {
      "text/markdown": [
       "# Random variables and probability distributions: Exercises"
      ],
      "text/plain": [
       "<IPython.core.display.Markdown object>"
      ]
     },
     "metadata": {},
     "output_type": "display_data"
    },
    {
     "data": {
      "text/markdown": [
       "<!-- Define LaTeX macros -->\n",
       "$\\def\\E{\\operatorname{E}}$\n",
       "$\\def\\Var{\\operatorname{Var}}$\n",
       "$\\def\\Cov{\\operatorname{Cov}}$\n",
       "$\\def\\dd{\\mathrm{d}}$\n",
       "$\\def\\ee{\\mathrm{e}}$\n",
       "$\\def\\Norm{\\mathcal{N}}$\n",
       "$\\def\\Uniform{\\mathcal{U}}$\n",
       "\n",
       "<!-- MathJax needs them to be defined again for the non-inline environment -->\n",
       "$$\\def\\E{\\operatorname{E}}$$\n",
       "$$\\def\\Var{\\operatorname{Var}}$$\n",
       "$$\\def\\Cov{\\operatorname{Cov}}$$\n",
       "$$\\def\\dd{\\mathrm{d}}$$\n",
       "$$\\def\\ee{\\mathrm{e}}$$\n",
       "$$\\def\\Norm{\\mathcal{N}}$$\n",
       "$$\\def\\Uniform{\\mathcal{U}}$$"
      ],
      "text/plain": [
       "<IPython.core.display.Markdown object>"
      ]
     },
     "metadata": {},
     "output_type": "display_data"
    }
   ],
   "source": [
    "title = \"# Random variables and probability distributions: Exercises\"\n",
    "# Print title and setup TeX defs for both KaTeX and MathJax\n",
    "import bayesian_stats_course_tools\n",
    "bayesian_stats_course_tools.misc.display_markdown_and_setup_tex(title)\n",
    "\n",
    "import matplotlib.style\n",
    "matplotlib.style.use(\"bayesian_stats_course_tools.light\")"
   ]
  },
  {
   "cell_type": "markdown",
   "metadata": {
    "slideshow": {
     "slide_type": "subslide"
    }
   },
   "source": [
    "### Exercises 1\n",
    "\n",
    "Sample from the distribution with PDF\n",
    "$$\n",
    "    p(x) = \\begin{cases}\n",
    "                0 & x < 0 \\\\\n",
    "                \\frac{1}{2}\\sin x & \\text{otherwise} \\\\\n",
    "                0 & x > \\pi\n",
    "            \\end{cases}\n",
    "$$\n",
    "- Plot the PDF and CDF\n",
    "- Sample from the distribution using invere transform sampling\n",
    "- Compare the histogram of the samples to the PDF\n"
   ]
  },
  {
   "cell_type": "markdown",
   "metadata": {
    "slideshow": {
     "slide_type": "subslide"
    }
   },
   "source": [
    "### Exercises 2\n",
    "\n",
    "- Confirm by simulation that the probability of $k$ out of $n$ iid $X_i\\sim\\Uniform(0,1)$ being in a small interval $\\Delta x$ follows a Poisson distribution.\n",
    "- Derive the Poisson distribution from the binomial distribution."
   ]
  },
  {
   "cell_type": "markdown",
   "metadata": {
    "slideshow": {
     "slide_type": "subslide"
    }
   },
   "source": [
    "### Exercises 3\n",
    "\n",
    "- Make plots of the PDFs of the distributions we covered so far, varying their parameters\n",
    "- Compute the distribution of the sum of two independent Gaussian RVs.\n",
    "- What is the distribution of the sum of two independent RVs $X\\sim f$ and $Y\\sim g$?\n",
    "- Derive the PDF of the $\\chi^2_{\\nu=1}$ distribution\n",
    "- Bonus:\n",
    "    - What is the product of two independent RVs $U$ and $V$?\n",
    "    - Compute the distribution of the ratio of two Gaussian RVs.\n"
   ]
  }
 ],
 "metadata": {
  "kernelspec": {
   "display_name": "stats_course",
   "language": "python",
   "name": "python3"
  },
  "language_info": {
   "codemirror_mode": {
    "name": "ipython",
    "version": 3
   },
   "file_extension": ".py",
   "mimetype": "text/x-python",
   "name": "python",
   "nbconvert_exporter": "python",
   "pygments_lexer": "ipython3",
   "version": "3.11.3"
  }
 },
 "nbformat": 4,
 "nbformat_minor": 2
}
