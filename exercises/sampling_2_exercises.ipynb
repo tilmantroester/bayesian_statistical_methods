{
 "cells": [
  {
   "cell_type": "code",
   "execution_count": 1,
   "metadata": {
    "slideshow": {
     "slide_type": "slide"
    },
    "tags": [
     "remove-input"
    ]
   },
   "outputs": [
    {
     "data": {
      "text/markdown": [
       "# Sampling 2: Exercises"
      ],
      "text/plain": [
       "<IPython.core.display.Markdown object>"
      ]
     },
     "metadata": {},
     "output_type": "display_data"
    },
    {
     "data": {
      "text/markdown": [
       "<!-- Define LaTeX macros -->\n",
       "$\\def\\E{\\operatorname{E}}$\n",
       "$\\def\\Var{\\operatorname{Var}}$\n",
       "$\\def\\Cov{\\operatorname{Cov}}$\n",
       "$\\def\\dd{\\mathrm{d}}$\n",
       "$\\def\\ee{\\mathrm{e}}$\n",
       "$\\def\\Norm{\\mathcal{N}}$\n",
       "$\\def\\Uniform{\\mathcal{U}}$\n",
       "\n",
       "<!-- MathJax needs them to be defined again for the non-inline environment -->\n",
       "$$\\def\\E{\\operatorname{E}}$$\n",
       "$$\\def\\Var{\\operatorname{Var}}$$\n",
       "$$\\def\\Cov{\\operatorname{Cov}}$$\n",
       "$$\\def\\dd{\\mathrm{d}}$$\n",
       "$$\\def\\ee{\\mathrm{e}}$$\n",
       "$$\\def\\Norm{\\mathcal{N}}$$\n",
       "$$\\def\\Uniform{\\mathcal{U}}$$"
      ],
      "text/plain": [
       "<IPython.core.display.Markdown object>"
      ]
     },
     "metadata": {},
     "output_type": "display_data"
    }
   ],
   "source": [
    "title = \"# Sampling 2: Exercises\"\n",
    "# Print title and setup TeX defs for both KaTeX and MathJax\n",
    "import bayesian_stats_course_tools\n",
    "bayesian_stats_course_tools.misc.display_markdown_and_setup_tex(title)\n",
    "\n",
    "import matplotlib.style\n",
    "matplotlib.style.use(\"bayesian_stats_course_tools.light\")"
   ]
  },
  {
   "cell_type": "markdown",
   "metadata": {},
   "source": [
    "## Exercise\n",
    "\n",
    "Implement your own nested sampling or slice sampling routine. Or both if you are ambitious.\n",
    "\n",
    "Use both emcee and dynesty on the 2D Gaussian from the Metropolis-Hastings exercise.\n",
    "\n",
    "Go back to the line-fitting exercise. Use nested sampling to find the evidences for a linear and a quadratic model. Which model is preferred by the data?"
   ]
  }
 ],
 "metadata": {
  "kernelspec": {
   "display_name": "stats_course",
   "language": "python",
   "name": "python3"
  },
  "language_info": {
   "codemirror_mode": {
    "name": "ipython",
    "version": 3
   },
   "file_extension": ".py",
   "mimetype": "text/x-python",
   "name": "python",
   "nbconvert_exporter": "python",
   "pygments_lexer": "ipython3",
   "version": "3.12.3"
  }
 },
 "nbformat": 4,
 "nbformat_minor": 2
}
